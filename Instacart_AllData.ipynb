{
 "cells": [
  {
   "cell_type": "markdown",
   "metadata": {},
   "source": [
    "### Entire Data Set\n",
    "\n",
    "#### Import libraries and csv files"
   ]
  },
  {
   "cell_type": "code",
   "execution_count": 1,
   "metadata": {},
   "outputs": [],
   "source": [
    "import pandas as pd\n",
    "import numpy as np\n",
    "from sklearn.model_selection import train_test_split, learning_curve\n",
    "from sklearn.model_selection import StratifiedKFold\n",
    "from sklearn.linear_model import LogisticRegression\n",
    "from sklearn.neighbors import KNeighborsClassifier\n",
    "from sklearn.metrics import accuracy_score, f1_score, precision_score, recall_score, classification_report\n",
    "from sklearn.metrics import roc_auc_score, roc_curve, auc\n",
    "from sklearn import preprocessing\n",
    "from sklearn.naive_bayes import GaussianNB\n",
    "from sklearn.svm import SVC\n",
    "from sklearn.tree import DecisionTreeClassifier\n",
    "from sklearn.ensemble import RandomForestClassifier\n",
    "import xgboost as xgb\n",
    "from scipy.stats import mode\n",
    "from collections import OrderedDict\n",
    "import matplotlib.pyplot as plt\n",
    "import seaborn as sns\n",
    "\n",
    "sns.color_palette(\"Set2\", 10)\n",
    "%matplotlib inline"
   ]
  },
  {
   "cell_type": "code",
   "execution_count": 2,
   "metadata": {},
   "outputs": [],
   "source": [
    "df_aisles = pd.read_csv('aisles.csv')\n",
    "df_departments = pd.read_csv('departments.csv')\n",
    "df_order_products_prior = pd.read_csv('order_products__prior.csv')\n",
    "df_order_products_train = pd.read_csv('order_products__train.csv')\n",
    "df_orders = pd.read_csv('orders.csv')\n",
    "df_products = pd.read_csv('products.csv')"
   ]
  },
  {
   "cell_type": "markdown",
   "metadata": {},
   "source": [
    "### Build dataframe with Features and Target"
   ]
  },
  {
   "cell_type": "code",
   "execution_count": 3,
   "metadata": {
    "scrolled": true
   },
   "outputs": [
    {
     "data": {
      "text/html": [
       "<div>\n",
       "<style scoped>\n",
       "    .dataframe tbody tr th:only-of-type {\n",
       "        vertical-align: middle;\n",
       "    }\n",
       "\n",
       "    .dataframe tbody tr th {\n",
       "        vertical-align: top;\n",
       "    }\n",
       "\n",
       "    .dataframe thead th {\n",
       "        text-align: right;\n",
       "    }\n",
       "</style>\n",
       "<table border=\"1\" class=\"dataframe\">\n",
       "  <thead>\n",
       "    <tr style=\"text-align: right;\">\n",
       "      <th></th>\n",
       "      <th>product_id</th>\n",
       "      <th>user_id</th>\n",
       "      <th>user_product_total_orders</th>\n",
       "      <th>latest_cart</th>\n",
       "      <th>in_cart</th>\n",
       "    </tr>\n",
       "  </thead>\n",
       "  <tbody>\n",
       "    <tr>\n",
       "      <th>0</th>\n",
       "      <td>1</td>\n",
       "      <td>138</td>\n",
       "      <td>2</td>\n",
       "      <td>{42475}</td>\n",
       "      <td>0</td>\n",
       "    </tr>\n",
       "    <tr>\n",
       "      <th>1</th>\n",
       "      <td>907</td>\n",
       "      <td>138</td>\n",
       "      <td>2</td>\n",
       "      <td>{42475}</td>\n",
       "      <td>0</td>\n",
       "    </tr>\n",
       "    <tr>\n",
       "      <th>2</th>\n",
       "      <td>1000</td>\n",
       "      <td>138</td>\n",
       "      <td>1</td>\n",
       "      <td>{42475}</td>\n",
       "      <td>0</td>\n",
       "    </tr>\n",
       "    <tr>\n",
       "      <th>3</th>\n",
       "      <td>3265</td>\n",
       "      <td>138</td>\n",
       "      <td>1</td>\n",
       "      <td>{42475}</td>\n",
       "      <td>0</td>\n",
       "    </tr>\n",
       "    <tr>\n",
       "      <th>4</th>\n",
       "      <td>4913</td>\n",
       "      <td>138</td>\n",
       "      <td>1</td>\n",
       "      <td>{42475}</td>\n",
       "      <td>0</td>\n",
       "    </tr>\n",
       "  </tbody>\n",
       "</table>\n",
       "</div>"
      ],
      "text/plain": [
       "   product_id  user_id  user_product_total_orders latest_cart  in_cart\n",
       "0           1      138                          2     {42475}        0\n",
       "1         907      138                          2     {42475}        0\n",
       "2        1000      138                          1     {42475}        0\n",
       "3        3265      138                          1     {42475}        0\n",
       "4        4913      138                          1     {42475}        0"
      ]
     },
     "execution_count": 3,
     "metadata": {},
     "output_type": "execute_result"
    }
   ],
   "source": [
    "# add detailed order info to train and prior order products df's\n",
    "\n",
    "df_order_products_train = df_order_products_train.merge(df_orders.drop('eval_set', axis=1), on='order_id')\n",
    "df_order_products_prior = df_order_products_prior.merge(df_orders.drop('eval_set', axis=1), on='order_id')\n",
    "\n",
    "# get unique user-product combinations and sum associated order id's to get total count\n",
    "# of each time that user-product combination occured, meaning total times the user ordered that product\n",
    "# use prior data b/c we're getting user order history (not current/last cart)\n",
    "\n",
    "df_user_product = (df_order_products_prior.groupby(['product_id','user_id'],as_index=False) \n",
    "                                          .agg({'order_id':'count'}) \n",
    "                                          .rename(columns={'order_id':'user_product_total_orders'}))\n",
    "\n",
    "# now get the user id's from prior that appear in train\n",
    "# we need to know the status of our train users' current/latest cart in order to populate the target train set\n",
    "\n",
    "train_ids = df_order_products_train['user_id'].unique() \n",
    "df_X = df_user_product[df_user_product['user_id'].isin(train_ids)]\n",
    "\n",
    "\n",
    "# now we want to add some user information as a predictive feature\n",
    "# get list of items in the user's current cart, which we can use to determine \n",
    "# whether a previously ordered item is in the user's current cart\n",
    "\n",
    "# use train (current) data and groupby user_id, then aggregate unique product id's \n",
    "# means we lose duplicates in current cart, but doesn't matter b/c we already know how many times\n",
    "# that user has ordered that product\n",
    "# product_id column is now a list of product ids representing the current (latest) cart\n",
    "\n",
    "train_carts = (df_order_products_train.groupby('user_id',as_index=False)\n",
    "                                      .agg({'product_id':(lambda x: set(x))})\n",
    "                                      .rename(columns={'product_id':'latest_cart'}))\n",
    "\n",
    "# now we'll add that current/latest cart to our model inputs df\n",
    "\n",
    "df_X = df_X.merge(train_carts, on='user_id')\n",
    "\n",
    "# add new column 'in_cart' representing whether a product the user has previously ordered is now in their current cart\n",
    "# 'in_cart' column is our target that we want to predict\n",
    "# this new df contains info from both prior and train df's\n",
    "# this new df is the df that we will split into train and test, since it now contains both past and current cart info\n",
    "\n",
    "df_X['in_cart'] = (df_X.apply(lambda row: row['product_id'] in row['latest_cart'], axis=1).astype(int))\n",
    "\n",
    "df_X.head()"
   ]
  },
  {
   "cell_type": "markdown",
   "metadata": {},
   "source": [
    "#### Check Target Distribution"
   ]
  },
  {
   "cell_type": "code",
   "execution_count": 4,
   "metadata": {},
   "outputs": [
    {
     "data": {
      "text/plain": [
       "0    0.9022\n",
       "1    0.0978\n",
       "Name: in_cart, dtype: float64"
      ]
     },
     "execution_count": 4,
     "metadata": {},
     "output_type": "execute_result"
    }
   ],
   "source": [
    "df_X.in_cart.value_counts(normalize=True)"
   ]
  },
  {
   "cell_type": "code",
   "execution_count": 6,
   "metadata": {},
   "outputs": [
    {
     "data": {
      "text/plain": [
       "0    7645837\n",
       "1     828824\n",
       "Name: in_cart, dtype: int64"
      ]
     },
     "execution_count": 6,
     "metadata": {},
     "output_type": "execute_result"
    }
   ],
   "source": [
    "df_X.in_cart.value_counts()"
   ]
  },
  {
   "cell_type": "code",
   "execution_count": 5,
   "metadata": {},
   "outputs": [
    {
     "name": "stdout",
     "output_type": "stream",
     "text": [
      "828824 7645837\n"
     ]
    }
   ],
   "source": [
    "num_reorders = df_X[df_X['in_cart'] == 1].shape[0]\n",
    "num_not_reordered = df_X[df_X['in_cart'] == 0].shape[0]\n",
    "print(num_reorders, num_not_reordered)"
   ]
  },
  {
   "cell_type": "code",
   "execution_count": 41,
   "metadata": {},
   "outputs": [
    {
     "data": {
      "text/plain": [
       "Text(0,0.5,'Ordered Products')"
      ]
     },
     "execution_count": 41,
     "metadata": {},
     "output_type": "execute_result"
    },
    {
     "data": {
      "image/png": "[encoded data removed]",
      "text/plain": [
       "<matplotlib.figure.Figure at 0x1110f8d68>"
      ]
     },
     "metadata": {},
     "output_type": "display_data"
    }
   ],
   "source": [
    "\n",
    "reorder_vals = [num_reorders, num_not_reordered]\n",
    "\n",
    "plt.figure(figsize=(9,6))\n",
    "plt.style.use('fivethirtyeight')\n",
    "plt.bar([1,2], reorder_vals, color=['b','r'])\n",
    "plt.xlabel('Product Reordered', fontsize=30)\n",
    "plt.xticks([1,2],['Yes','No'])\n",
    "plt.ylabel('Ordered Products', fontsize=30)\n",
    "#plt.title('Reorder Distribution');"
   ]
  },
  {
   "cell_type": "markdown",
   "metadata": {},
   "source": [
    "### Feature Engineering\n",
    "\n",
    "#### Product Features"
   ]
  },
  {
   "cell_type": "code",
   "execution_count": 11,
   "metadata": {},
   "outputs": [],
   "source": [
    "# let's build some new features out of this information\n",
    "# how many times has each product been ordered? \n",
    "    # --> number of unique orders for each product id\n",
    "# in what order is each product typically added to the cart? do certain products tend to be first or last?\n",
    "    # --> mean of add to cart order for each product id\n",
    "    \n",
    "prod_features = ['product_total_orders','product_avg_add_to_cart_order']\n",
    "\n",
    "df_prod_features = (df_order_products_prior.groupby(['product_id'],as_index=False)\n",
    "                                           .agg(OrderedDict(\n",
    "                                                   [('order_id','nunique'),\n",
    "                                                    ('add_to_cart_order','mean')])))\n",
    "df_prod_features.columns = ['product_id'] + prod_features\n",
    "\n",
    "df_X.isnull().sum()\n",
    "\n",
    "# add our new features to our training set\n",
    "\n",
    "df_X = df_X.merge(df_prod_features, on='product_id')\n"
   ]
  },
  {
   "cell_type": "code",
   "execution_count": 22,
   "metadata": {},
   "outputs": [
    {
     "data": {
      "text/html": [
       "<div>\n",
       "<style scoped>\n",
       "    .dataframe tbody tr th:only-of-type {\n",
       "        vertical-align: middle;\n",
       "    }\n",
       "\n",
       "    .dataframe tbody tr th {\n",
       "        vertical-align: top;\n",
       "    }\n",
       "\n",
       "    .dataframe thead th {\n",
       "        text-align: right;\n",
       "    }\n",
       "</style>\n",
       "<table border=\"1\" class=\"dataframe\">\n",
       "  <thead>\n",
       "    <tr style=\"text-align: right;\">\n",
       "      <th></th>\n",
       "      <th>product_id</th>\n",
       "      <th>product_name</th>\n",
       "      <th>product_total_orders</th>\n",
       "    </tr>\n",
       "  </thead>\n",
       "  <tbody>\n",
       "    <tr>\n",
       "      <th>24760</th>\n",
       "      <td>24852</td>\n",
       "      <td>Banana</td>\n",
       "      <td>22193542660</td>\n",
       "    </tr>\n",
       "    <tr>\n",
       "      <th>13118</th>\n",
       "      <td>13176</td>\n",
       "      <td>Bag of Organic Bananas</td>\n",
       "      <td>15365068850</td>\n",
       "    </tr>\n",
       "    <tr>\n",
       "      <th>21055</th>\n",
       "      <td>21137</td>\n",
       "      <td>Organic Strawberries</td>\n",
       "      <td>9917142644</td>\n",
       "    </tr>\n",
       "    <tr>\n",
       "      <th>21819</th>\n",
       "      <td>21903</td>\n",
       "      <td>Organic Baby Spinach</td>\n",
       "      <td>8490701337</td>\n",
       "    </tr>\n",
       "    <tr>\n",
       "      <th>47004</th>\n",
       "      <td>47209</td>\n",
       "      <td>Organic Hass Avocado</td>\n",
       "      <td>5928237504</td>\n",
       "    </tr>\n",
       "    <tr>\n",
       "      <th>47559</th>\n",
       "      <td>47766</td>\n",
       "      <td>Organic Avocado</td>\n",
       "      <td>4824397275</td>\n",
       "    </tr>\n",
       "    <tr>\n",
       "      <th>47419</th>\n",
       "      <td>47626</td>\n",
       "      <td>Large Lemon</td>\n",
       "      <td>4504908070</td>\n",
       "    </tr>\n",
       "    <tr>\n",
       "      <th>26108</th>\n",
       "      <td>26209</td>\n",
       "      <td>Limes</td>\n",
       "      <td>4025025994</td>\n",
       "    </tr>\n",
       "    <tr>\n",
       "      <th>16731</th>\n",
       "      <td>16797</td>\n",
       "      <td>Strawberries</td>\n",
       "      <td>3927149872</td>\n",
       "    </tr>\n",
       "    <tr>\n",
       "      <th>27851</th>\n",
       "      <td>27966</td>\n",
       "      <td>Organic Raspberries</td>\n",
       "      <td>2767866115</td>\n",
       "    </tr>\n",
       "    <tr>\n",
       "      <th>22850</th>\n",
       "      <td>22935</td>\n",
       "      <td>Organic Yellow Onion</td>\n",
       "      <td>2477564118</td>\n",
       "    </tr>\n",
       "    <tr>\n",
       "      <th>24872</th>\n",
       "      <td>24964</td>\n",
       "      <td>Organic Garlic</td>\n",
       "      <td>2457270752</td>\n",
       "    </tr>\n",
       "    <tr>\n",
       "      <th>39109</th>\n",
       "      <td>39275</td>\n",
       "      <td>Organic Blueberries</td>\n",
       "      <td>2373823440</td>\n",
       "    </tr>\n",
       "    <tr>\n",
       "      <th>44816</th>\n",
       "      <td>45007</td>\n",
       "      <td>Organic Zucchini</td>\n",
       "      <td>2183777559</td>\n",
       "    </tr>\n",
       "    <tr>\n",
       "      <th>27730</th>\n",
       "      <td>27845</td>\n",
       "      <td>Organic Whole Milk</td>\n",
       "      <td>2043062575</td>\n",
       "    </tr>\n",
       "    <tr>\n",
       "      <th>49462</th>\n",
       "      <td>49683</td>\n",
       "      <td>Cucumber Kirby</td>\n",
       "      <td>1868642630</td>\n",
       "    </tr>\n",
       "    <tr>\n",
       "      <th>40535</th>\n",
       "      <td>40706</td>\n",
       "      <td>Organic Grape Tomatoes</td>\n",
       "      <td>1565205135</td>\n",
       "    </tr>\n",
       "    <tr>\n",
       "      <th>5857</th>\n",
       "      <td>5876</td>\n",
       "      <td>Organic Lemon</td>\n",
       "      <td>1527833352</td>\n",
       "    </tr>\n",
       "    <tr>\n",
       "      <th>28088</th>\n",
       "      <td>28204</td>\n",
       "      <td>Organic Fuji Apple</td>\n",
       "      <td>1469875168</td>\n",
       "    </tr>\n",
       "    <tr>\n",
       "      <th>4904</th>\n",
       "      <td>4920</td>\n",
       "      <td>Seedless Red Grapes</td>\n",
       "      <td>1444328763</td>\n",
       "    </tr>\n",
       "  </tbody>\n",
       "</table>\n",
       "</div>"
      ],
      "text/plain": [
       "       product_id            product_name  product_total_orders\n",
       "24760       24852                  Banana           22193542660\n",
       "13118       13176  Bag of Organic Bananas           15365068850\n",
       "21055       21137    Organic Strawberries            9917142644\n",
       "21819       21903    Organic Baby Spinach            8490701337\n",
       "47004       47209    Organic Hass Avocado            5928237504\n",
       "47559       47766         Organic Avocado            4824397275\n",
       "47419       47626             Large Lemon            4504908070\n",
       "26108       26209                   Limes            4025025994\n",
       "16731       16797            Strawberries            3927149872\n",
       "27851       27966     Organic Raspberries            2767866115\n",
       "22850       22935    Organic Yellow Onion            2477564118\n",
       "24872       24964          Organic Garlic            2457270752\n",
       "39109       39275     Organic Blueberries            2373823440\n",
       "44816       45007        Organic Zucchini            2183777559\n",
       "27730       27845      Organic Whole Milk            2043062575\n",
       "49462       49683          Cucumber Kirby            1868642630\n",
       "40535       40706  Organic Grape Tomatoes            1565205135\n",
       "5857         5876           Organic Lemon            1527833352\n",
       "28088       28204      Organic Fuji Apple            1469875168\n",
       "4904         4920     Seedless Red Grapes            1444328763"
      ]
     },
     "execution_count": 22,
     "metadata": {},
     "output_type": "execute_result"
    }
   ],
   "source": [
    "top_products = df_X.drop(['user_id','latest_cart'], axis=1).merge(df_products,on='product_id')\n",
    "top_products = top_products.groupby(['product_id','product_name'],as_index=False).agg('product_total_orders').sum()\n",
    "df_top_products = top_products.sort_values(by='product_total_orders', ascending=False)\n",
    "df_top_products.head(20)"
   ]
  },
  {
   "cell_type": "code",
   "execution_count": null,
   "metadata": {},
   "outputs": [],
   "source": []
  },
  {
   "cell_type": "markdown",
   "metadata": {},
   "source": [
    "#### User Features"
   ]
  },
  {
   "cell_type": "code",
   "execution_count": 23,
   "metadata": {
    "collapsed": true
   },
   "outputs": [
    {
     "data": {
      "text/plain": [
       "product_id                         0\n",
       "user_id                            0\n",
       "user_product_total_orders          0\n",
       "latest_cart                        0\n",
       "in_cart                            0\n",
       "product_total_orders               0\n",
       "product_avg_add_to_cart_order      0\n",
       "user_total_orders                  0\n",
       "user_avg_cartsize                  0\n",
       "user_total_products                0\n",
       "user_avg_days_since_prior_order    0\n",
       "dtype: int64"
      ]
     },
     "execution_count": 23,
     "metadata": {},
     "output_type": "execute_result"
    }
   ],
   "source": [
    "user_features = ['user_total_orders','user_avg_cartsize','user_total_products','user_avg_days_since_prior_order']\n",
    "\n",
    "df_user_features = (df_order_products_prior.groupby(['user_id'],as_index=False)\n",
    "                                           .agg(OrderedDict(\n",
    "                                                   [('order_id',['nunique', (lambda x: x.shape[0] / x.nunique())]),\n",
    "                                                    ('product_id','nunique'),\n",
    "                                                    ('days_since_prior_order','mean')])))\n",
    "\n",
    "df_user_features.columns = ['user_id'] + user_features\n",
    "\n",
    "df_X = df_X.merge(df_user_features, on='user_id')\n",
    "df_X.isnull().sum()"
   ]
  },
  {
   "cell_type": "code",
   "execution_count": 26,
   "metadata": {},
   "outputs": [
    {
     "data": {
      "image/png": "[encoded data removed]",
      "text/plain": [
       "<matplotlib.figure.Figure at 0x1a530c2c50>"
      ]
     },
     "metadata": {},
     "output_type": "display_data"
    }
   ],
   "source": [
    "# plot\n",
    "plt.figure(figsize=(10,6))\n",
    "plt.hist(df_X['user_avg_days_since_prior_order'])\n",
    "plt.xlabel('Days')\n",
    "plt.ylabel('Users')\n",
    "plt.title('Average Days Since Prior Order')\n",
    "plt.show();"
   ]
  },
  {
   "cell_type": "code",
   "execution_count": 28,
   "metadata": {},
   "outputs": [
    {
     "data": {
      "image/png": "[encoded data removed]",
      "text/plain": [
       "<matplotlib.figure.Figure at 0x11112f5f8>"
      ]
     },
     "metadata": {},
     "output_type": "display_data"
    }
   ],
   "source": [
    "#plot\n",
    "plt.figure(figsize=(10,6))\n",
    "plt.hist(df_X['user_total_products'])\n",
    "plt.xlabel('Products')\n",
    "plt.ylabel('Users')\n",
    "plt.title('Total Products Purchased by User')\n",
    "plt.show();\n"
   ]
  },
  {
   "cell_type": "markdown",
   "metadata": {},
   "source": [
    "#### User-Product Features"
   ]
  },
  {
   "cell_type": "code",
   "execution_count": 29,
   "metadata": {},
   "outputs": [],
   "source": [
    "user_prod_features = ['user_product_avg_add_to_cart_order']\n",
    "\n",
    "df_user_prod_features = (df_order_products_prior.groupby(['product_id','user_id'],as_index=False) \\\n",
    "                                                .agg(OrderedDict(\n",
    "                                                     [('add_to_cart_order','mean')])))\n",
    "\n",
    "df_user_prod_features.columns = ['product_id','user_id'] + user_prod_features \n",
    "\n",
    "df_X = df_X.merge(df_user_prod_features,on=['user_id','product_id']) # adding user_product_avg_add_to_cart_order\n",
    "\n",
    "# how often does each user order each product?\n",
    "\n",
    "df_X['user_product_order_freq'] = df_X['user_product_total_orders'] / df_X['user_total_orders'] "
   ]
  },
  {
   "cell_type": "markdown",
   "metadata": {},
   "source": [
    "#### Aisle & Department Features"
   ]
  },
  {
   "cell_type": "code",
   "execution_count": 30,
   "metadata": {},
   "outputs": [],
   "source": [
    "# let's try adding product category / aisle information as categorical features\n",
    "\n",
    "# combine aisle and department info with product info\n",
    "\n",
    "df_products = df_products.merge(df_aisles, on='aisle_id')\n",
    "df_products = df_products.merge(df_departments, on='department_id')\n",
    "\n",
    "aisle_counts = df_products['aisle'].value_counts()\n",
    "# first row: 1258 missing\n",
    "# start with top 20; later test top 40\n",
    "aisles_top_20 = aisle_counts[1:21]\n",
    "aisles_other = aisle_counts[21:]\n",
    "\n",
    "df_top_aisles = df_products\n",
    "df_top_aisles['aisle'] = [name if name in aisles_top_20 else 'other' for name in df_products['aisle']]\n",
    "\n",
    "df_X = df_X.merge(df_top_aisles,on=['product_id'])\n",
    "\n",
    "df_dummy_aisles = pd.get_dummies(df_X['aisle'], prefix='aisle')\n",
    "df_dummy_departments = pd.get_dummies(df_X['department'], prefix='dept')\n",
    "df_dummy_aisledepts = pd.concat([df_dummy_aisles, df_dummy_departments], axis=1)\n",
    "df_X = pd.concat([df_X, df_dummy_aisledepts], axis=1)"
   ]
  },
  {
   "cell_type": "markdown",
   "metadata": {},
   "source": [
    "#### Features Built on Ordering Patterns"
   ]
  },
  {
   "cell_type": "code",
   "execution_count": 31,
   "metadata": {},
   "outputs": [],
   "source": [
    "# how many orders has it been since user last ordered this product?\n",
    "\n",
    "\n",
    "df_user_prod_priororder = (df_order_products_prior.groupby(['product_id','user_id'],as_index=False) \n",
    "                                          .agg({'order_number':'max'}) \n",
    "                                          .rename(columns={'order_number':'prior_user_product_last_order'}))\n",
    "\n",
    "df_user_prod_trainorder = (df_order_products_train.groupby('user_id',as_index=False)\n",
    "                                                  .agg('order_number').max()\n",
    "                                                  .rename(columns={'order_number':'train_user_order_number'}))\n",
    "\n",
    "df_user_prod_trainorder = (df_user_prod_trainorder\n",
    "                           .merge(df_user_prod_priororder, on='user_id', how='right'))\n",
    "\n",
    "#df_user_prod_trainorder = (df_user_prod_trainorder.groupby('user_id',as_index=False)\n",
    "                                                  #.agg({['order_number','prior_user_product_last_order']\n",
    "                                                       # :(lambda x,y: x-y)}))\n",
    "                                                  #.agg(diff b/w order_number and prior)\n",
    "\n",
    "\n",
    "df_user_prod_trainorder['user_orders_since_product'] = (df_user_prod_trainorder['train_user_order_number']\n",
    "                                                        - df_user_prod_trainorder['prior_user_product_last_order'])\n",
    "\n",
    "df_X = df_X.merge(df_user_prod_trainorder, on=['user_id','product_id'],how='left')"
   ]
  },
  {
   "cell_type": "markdown",
   "metadata": {},
   "source": [
    "#### 5 Order Frequency"
   ]
  },
  {
   "cell_type": "code",
   "execution_count": 32,
   "metadata": {},
   "outputs": [],
   "source": [
    "# get user max (most recent) order number from train\n",
    "# merge into prior order history\n",
    "\n",
    "user_max_ordernum = (df_order_products_train.groupby('user_id',as_index=False)\n",
    "                                                  .agg('order_number').max()\n",
    "                                                  .rename(columns={'order_number':'user_max_order_num'}))\n",
    "\n",
    "df_user_all_orders = (df_order_products_prior.drop(['add_to_cart_order','reordered','order_dow',\n",
    "                                                       'order_hour_of_day'],axis=1)\n",
    "                                                .merge(user_max_ordernum, on='user_id')\n",
    "                                                .rename(columns={'order_number':'prior_order_num'}))\n",
    "\n",
    "# isolate earliest prior orders (least relevant)\n",
    "df_user_all_orders[df_user_all_orders['prior_order_num'] <= 5].head(3)\n",
    "\n",
    "# grab users' previous 5 orders \n",
    "# where difference between max order num and prior order num <=5 \n",
    "\n",
    "df_user_recent_orders = (df_user_all_orders[df_user_all_orders['user_max_order_num'] \n",
    "                                               - df_user_all_orders['prior_order_num'] <= 5])\n",
    "\n",
    "# number of unique orders (recent) per user (will be <=5)\n",
    "\n",
    "user_orders_recent = (df_user_recent_orders.groupby(['user_id'],as_index=False)\n",
    "                                           .agg({'order_id':'nunique'})\n",
    "                                           .rename(columns={'order_id':'user_orders_recent'}))\n",
    "\n",
    "# among those recent orders, how many included each product?  \n",
    "\n",
    "user_product_orders_recent = (df_user_recent_orders.groupby(['user_id','product_id'],as_index=False)\n",
    "                                           .agg({'order_id':'nunique'})\n",
    "                                           .rename(columns={'order_id':'user_prod_orders_recent'}))\n",
    "\n",
    "# merge recent user order counts with recent user product order counts so we can calculate frequency\n",
    "\n",
    "df_user_product_orders_recent = user_product_orders_recent.merge(user_orders_recent,on='user_id')\n",
    "\n",
    "df_user_product_orders_recent['five_order_freq'] = (df_user_product_orders_recent['user_prod_orders_recent'] /\n",
    "                                                    df_user_product_orders_recent['user_orders_recent'])\n",
    "\n",
    "# add five_order_freq to df_X \n",
    "\n",
    "df_X = (df_X.merge(df_user_product_orders_recent.drop(['user_prod_orders_recent','user_orders_recent'],axis=1),\n",
    "                   on=['user_id','product_id']))"
   ]
  },
  {
   "cell_type": "markdown",
   "metadata": {},
   "source": [
    "### 3 Order Frequency"
   ]
  },
  {
   "cell_type": "code",
   "execution_count": 33,
   "metadata": {},
   "outputs": [],
   "source": [
    "# grab users' previous 3 orders \n",
    "# where difference between max order num and prior order num <=3 \n",
    "\n",
    "df_user_recent_orders = (df_user_all_orders[df_user_all_orders['user_max_order_num'] \n",
    "                                               - df_user_all_orders['prior_order_num'] <= 3])\n",
    "\n",
    "# number of unique orders (recent) per user (will be <=3)\n",
    "\n",
    "user_orders_recent = (df_user_recent_orders.groupby(['user_id'],as_index=False)\n",
    "                                             .agg({'order_id':'nunique'})\n",
    "                                             .rename(columns={'order_id':'user_orders_recent'}))\n",
    "\n",
    "\n",
    "# among those recent orders, how many included each product?  \n",
    "\n",
    "user_product_orders_recent = (df_user_recent_orders.groupby(['user_id','product_id'],as_index=False)\n",
    "                                           .agg({'order_id':'nunique'})\n",
    "                                           .rename(columns={'order_id':'user_prod_orders_recent'}))\n",
    "\n",
    "# merge recent user order counts with recent user product order counts so we can calculate frequency\n",
    "\n",
    "df_user_product_orders_recent = user_product_orders_recent.merge(user_orders_recent,on='user_id')\n",
    "\n",
    "df_user_product_orders_recent['three_order_freq'] = (df_user_product_orders_recent['user_prod_orders_recent'] /\n",
    "                                                    df_user_product_orders_recent['user_orders_recent'])\n",
    "\n",
    "# add three_order_freq to df_X \n",
    "\n",
    "df_X = (df_X.merge(df_user_product_orders_recent.drop(['user_prod_orders_recent','user_orders_recent'],axis=1),\n",
    "                   on=['user_id','product_id']))"
   ]
  },
  {
   "cell_type": "markdown",
   "metadata": {},
   "source": [
    "#### 7 Order Frequency"
   ]
  },
  {
   "cell_type": "code",
   "execution_count": 35,
   "metadata": {},
   "outputs": [],
   "source": [
    "#  7 Order Frequency\n",
    "\n",
    "# grab users' previous 3 orders \n",
    "# where difference between max order num and prior order num <=3 \n",
    "\n",
    "df_user_recent_orders = (df_user_all_orders[df_user_all_orders['user_max_order_num'] \n",
    "                                               - df_user_all_orders['prior_order_num'] <= 7])\n",
    "\n",
    "# number of unique orders (recent) per user (will be <=3)\n",
    "\n",
    "user_orders_recent = (df_user_recent_orders.groupby(['user_id'],as_index=False)\n",
    "                                             .agg({'order_id':'nunique'})\n",
    "                                             .rename(columns={'order_id':'user_orders_recent'}))\n",
    "\n",
    "\n",
    "# among those recent orders, how many included each product?  \n",
    "\n",
    "user_product_orders_recent = (df_user_recent_orders.groupby(['user_id','product_id'],as_index=False)\n",
    "                                           .agg({'order_id':'nunique'})\n",
    "                                           .rename(columns={'order_id':'user_prod_orders_recent'}))\n",
    "\n",
    "# merge recent user order counts with recent user product order counts so we can calculate frequency\n",
    "\n",
    "df_user_product_orders_recent = user_product_orders_recent.merge(user_orders_recent,on='user_id')\n",
    "\n",
    "df_user_product_orders_recent['seven_order_freq'] = (df_user_product_orders_recent['user_prod_orders_recent'] /\n",
    "                                                    df_user_product_orders_recent['user_orders_recent'])\n",
    "\n",
    "# add three_order_freq to df_X \n",
    "\n",
    "# ADD THIS LINE BACK\n",
    "#df_X = (df_X.merge(df_user_product_orders_recent.drop(['user_prod_orders_recent','user_orders_recent'],axis=1),\n",
    "                   #on=['user_id','product_id']))"
   ]
  },
  {
   "cell_type": "code",
   "execution_count": 37,
   "metadata": {},
   "outputs": [
    {
     "data": {
      "image/png": "[encoded data removed]",
      "text/plain": [
       "<matplotlib.figure.Figure at 0x1a1e5c0c88>"
      ]
     },
     "metadata": {},
     "output_type": "display_data"
    }
   ],
   "source": [
    "recent_product_orders = df_user_product_orders_recent['user_prod_orders_recent']\n",
    "recent_orders = df_user_product_orders_recent['user_orders_recent']\n",
    "# scatter add jitter\n",
    "plt.figure(figsize=(12,6))\n",
    "plt.scatter(recent_product_orders, recent_orders)\n",
    "plt.ylabel(\"User's Recent Orders\")\n",
    "plt.xlabel(\"Recent Orders Including Product\")\n",
    "plt.title(\"Product Reorder Rate\")\n",
    "plt.show();"
   ]
  },
  {
   "cell_type": "code",
   "execution_count": 17,
   "metadata": {},
   "outputs": [],
   "source": [
    "# total recent product orders as a percentage of total recent orders \n",
    "\n",
    "\n",
    "df_user_recent_orders = (df_user_all_orders[df_user_all_orders['user_max_order_num'] \n",
    "                                               - df_user_all_orders['prior_order_num'] <= 5])\n",
    "    \n",
    "total_recent_orders = len(df_user_recent_orders['order_id'].unique())\n",
    "\n",
    "\n",
    "                    \n",
    "df_prod_features = (df_user_recent_orders.groupby(['product_id'],as_index=False)\n",
    "                                           .agg(OrderedDict([('order_id','nunique')]))\n",
    "                                           .rename(columns={'order_id':'product_recent_orders'}))\n",
    "                    \n",
    "\n",
    "df_prod_features['product_recent_freq'] = df_prod_features['product_recent_orders'] / total_recent_orders\n",
    "\n",
    "df_X = df_X.merge(df_prod_features.drop('product_recent_orders',axis=1),on='product_id')"
   ]
  },
  {
   "cell_type": "markdown",
   "metadata": {},
   "source": [
    "#### Day of Week"
   ]
  },
  {
   "cell_type": "code",
   "execution_count": 20,
   "metadata": {},
   "outputs": [],
   "source": [
    "# get mode day of week for each user_product\n",
    "\n",
    "f = lambda x: mode(x, axis=None)[0][0]\n",
    "dow_mode_count = df_order_products_prior.groupby(['user_id','product_id'])['order_dow'].apply(f)\n",
    "\n",
    "df_dow_mode = dow_mode_count.to_frame('dow_mode').reset_index()\n",
    "\n",
    "df_prior_dow_mode = df_order_products_prior.merge(df_dow_mode, on=['user_id','product_id'])\n",
    "\n",
    "df_prior_dow_mode['day_mode_diff'] = df_prior_dow_mode['dow_mode'] - df_prior_dow_mode['order_dow']\n",
    "\n",
    "df_dow_to_merge = df_prior_dow_mode.drop(['order_id','add_to_cart_order','reordered','order_number','order_dow',\n",
    "                                           'order_hour_of_day','days_since_prior_order','dow_mode'],axis=1)\n",
    "\n",
    "df_X = (df_X.merge(df_dow_to_merge,on=['product_id','user_id']))"
   ]
  },
  {
   "cell_type": "markdown",
   "metadata": {},
   "source": [
    "### Save to CSV"
   ]
  },
  {
   "cell_type": "code",
   "execution_count": 21,
   "metadata": {
    "collapsed": true
   },
   "outputs": [
    {
     "data": {
      "text/plain": [
       "Index(['product_id', 'user_id', 'user_product_total_orders', 'latest_cart',\n",
       "       'in_cart', 'product_total_orders', 'product_avg_add_to_cart_order',\n",
       "       'user_total_orders', 'user_avg_cartsize', 'user_total_products',\n",
       "       'user_avg_days_since_prior_order', 'user_product_avg_add_to_cart_order',\n",
       "       'user_product_order_freq', 'product_name', 'aisle_id', 'department_id',\n",
       "       'aisle', 'department', 'aisle_baby food formula',\n",
       "       'aisle_baking ingredients', 'aisle_candy chocolate',\n",
       "       'aisle_chips pretzels', 'aisle_cleaning products', 'aisle_coffee',\n",
       "       'aisle_cookies cakes', 'aisle_crackers', 'aisle_energy granola bars',\n",
       "       'aisle_frozen meals', 'aisle_hair care', 'aisle_ice cream ice',\n",
       "       'aisle_juice nectars', 'aisle_other', 'aisle_packaged cheese',\n",
       "       'aisle_refrigerated', 'aisle_soup broth bouillon',\n",
       "       'aisle_spices seasonings', 'aisle_tea', 'aisle_vitamins supplements',\n",
       "       'aisle_yogurt', 'dept_alcohol', 'dept_babies', 'dept_bakery',\n",
       "       'dept_beverages', 'dept_breakfast', 'dept_bulk', 'dept_canned goods',\n",
       "       'dept_dairy eggs', 'dept_deli', 'dept_dry goods pasta', 'dept_frozen',\n",
       "       'dept_household', 'dept_international', 'dept_meat seafood',\n",
       "       'dept_missing', 'dept_other', 'dept_pantry', 'dept_personal care',\n",
       "       'dept_pets', 'dept_produce', 'dept_snacks', 'train_user_order_number',\n",
       "       'prior_user_product_last_order', 'user_orders_since_product',\n",
       "       'five_order_freq', 'three_order_freq', 'seven_order_freq',\n",
       "       'product_recent_freq', 'day_mode_diff'],\n",
       "      dtype='object')"
      ]
     },
     "execution_count": 21,
     "metadata": {},
     "output_type": "execute_result"
    }
   ],
   "source": [
    "df_X.columns"
   ]
  },
  {
   "cell_type": "code",
   "execution_count": 22,
   "metadata": {},
   "outputs": [],
   "source": [
    "df_X.to_csv('InstacartAllData.csv')"
   ]
  },
  {
   "cell_type": "code",
   "execution_count": null,
   "metadata": {},
   "outputs": [],
   "source": [
    "# sklearn hack:\n",
    "# n_jobs = -1 to use all available cores"
   ]
  }
 ],
 "metadata": {
  "kernelspec": {
   "display_name": "Python 3",
   "language": "python",
   "name": "python3"
  },
  "language_info": {
   "codemirror_mode": {
    "name": "ipython",
    "version": 3
   },
   "file_extension": ".py",
   "mimetype": "text/x-python",
   "name": "python",
   "nbconvert_exporter": "python",
   "pygments_lexer": "ipython3",
   "version": "3.6.4"
  },
  "toc": {
   "nav_menu": {},
   "number_sections": true,
   "sideBar": true,
   "skip_h1_title": false,
   "title_cell": "Table of Contents",
   "title_sidebar": "Contents",
   "toc_cell": false,
   "toc_position": {
    "height": "calc(100% - 180px)",
    "left": "10px",
    "top": "150px",
    "width": "165px"
   },
   "toc_section_display": true,
   "toc_window_display": true
  }
 },
 "nbformat": 4,
 "nbformat_minor": 2
}
